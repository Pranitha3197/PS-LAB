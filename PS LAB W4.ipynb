{
  "nbformat": 4,
  "nbformat_minor": 0,
  "metadata": {
    "colab": {
      "provenance": [],
      "authorship_tag": "ABX9TyPk64JRQXEG5c50+kv/+YOt",
      "include_colab_link": true
    },
    "kernelspec": {
      "name": "python3",
      "display_name": "Python 3"
    },
    "language_info": {
      "name": "python"
    }
  },
  "cells": [
    {
      "cell_type": "markdown",
      "metadata": {
        "id": "view-in-github",
        "colab_type": "text"
      },
      "source": [
        "<a href=\"https://colab.research.google.com/github/Pranitha3197/PS-LAB/blob/main/PS%20LAB%20W4.ipynb\" target=\"_parent\"><img src=\"https://colab.research.google.com/assets/colab-badge.svg\" alt=\"Open In Colab\"/></a>"
      ]
    },
    {
      "cell_type": "code",
      "execution_count": 1,
      "metadata": {
        "colab": {
          "base_uri": "https://localhost:8080/"
        },
        "id": "t_5EJ2veleU3",
        "outputId": "f7e60f3d-298f-4276-f14e-340bf7d758ab"
      },
      "outputs": [
        {
          "output_type": "stream",
          "name": "stdout",
          "text": [
            "Ungrouped Data - Median (numpy): 56.0\n",
            "Ungrouped Data - Mode (manual): 45\n",
            "Ungrouped Data - Mode (pandas): [45]\n"
          ]
        }
      ],
      "source": [
        "import numpy as np\n",
        "import pandas as pd\n",
        "\n",
        "# Question 1:\n",
        "data = [12, 12, 12, 12, 12, 21, 23, 23, 23, 23, 23, 23, 23, 23, 34, 34, 34, 34, 34, 34, 34, 34, 45, 45, 45, 45, 45, 45, 45, 45, 45, 45, 45, 45, 45, 45, 56, 56, 56, 56, 56, 56,\n",
        "67, 67, 67, 67, 67, 67, 67, 67, 67, 67, 67, 67, 78, 78, 78, 78, 78, 78, 78, 78, 78, 78,89, 89, 89, 89, 89, 89, 89, 89, 89, 89, 90, 90, 90, 90, 90, 90]\n",
        "\n",
        "\n",
        "median_ungrouped = np.median(data)\n",
        "mode_ungrouped = max(set(data), key=data.count)\n",
        "mode_ungrouped_pandas = pd.Series(data).mode().tolist()\n",
        "\n",
        "print(f\"Ungrouped Data - Median (numpy): {median_ungrouped}\")\n",
        "print(f\"Ungrouped Data - Mode (manual): {mode_ungrouped}\")\n",
        "print(f\"Ungrouped Data - Mode (pandas): {mode_ungrouped_pandas}\")"
      ]
    },
    {
      "cell_type": "code",
      "source": [
        "import pandas as pd\n",
        "import numpy as np\n",
        "\n",
        "# Question 2:\n",
        "scores = [10,20,30,40,50,60,70,80,90,100]\n",
        "frequencies = [200,350,400,300,250,200,150,80,50,20]\n",
        "data_expanded = np.repeat(scores, frequencies)\n",
        "median_grouped = np.median(data_expanded)\n",
        "mode_grouped = scores[np.argmax(frequencies)]\n",
        "\n",
        "print(f\"\\nGrouped Data (Discrete) - Median (numpy): {median_grouped}\")\n",
        "print(f\"Grouped Data (Discrete) - Mode (numpy): {mode_grouped}\")"
      ],
      "metadata": {
        "colab": {
          "base_uri": "https://localhost:8080/"
        },
        "id": "iQXZwQc1lfzP",
        "outputId": "c1d5e728-9191-4d3b-b5d1-06a030b0aa00"
      },
      "execution_count": 2,
      "outputs": [
        {
          "output_type": "stream",
          "name": "stdout",
          "text": [
            "\n",
            "Grouped Data (Discrete) - Median (numpy): 40.0\n",
            "Grouped Data (Discrete) - Mode (numpy): 30\n"
          ]
        }
      ]
    },
    {
      "cell_type": "code",
      "source": [
        "import pandas as pd\n",
        "import numpy as np\n",
        "\n",
        "# Question 3:\n",
        "class_intervals = [(0, 20), (20, 40), (40, 60), (60, 80), (80, 100), (100, 120), (120, 140)]\n",
        "class_midpoints = [(a + b) / 2 for a, b in class_intervals]\n",
        "class_frequencies = [50,120,200,300,220,70,40]\n",
        "cf = np.cumsum(class_frequencies)\n",
        "N = sum(class_frequencies)\n",
        "median_class_index = np.searchsorted(cf, N / 2)\n",
        "L = class_intervals[median_class_index][0]\n",
        "F = cf[median_class_index - 1] if median_class_index > 0 else 0\n",
        "f = class_frequencies[median_class_index]\n",
        "h = class_intervals[median_class_index][1] - class_intervals[median_class_index][0]\n",
        "\n",
        "median_grouped_formula = L + ((N/2 - F) / f) * h\n",
        "\n",
        "\n",
        "mode_class_index = np.argmax(class_frequencies)\n",
        "L_mode = class_intervals[mode_class_index][0]\n",
        "f1 = class_frequencies[mode_class_index]\n",
        "f0 = class_frequencies[mode_class_index - 1] if mode_class_index > 0 else 0\n",
        "f2 = class_frequencies[mode_class_index + 1] if mode_class_index < len(class_frequencies) - 1 else 0\n",
        "\n",
        "mode_grouped_formula = L_mode + ((f1 - f0) / ((f1 - f0) + (f1 - f2))) * h if (f1 - f0 + f1 - f2) != 0 else L_mode\n",
        "\n",
        "print( f\"\\nGrouped Data (Class Intervals) - Approx Median:{median_grouped_formula}\")\n",
        "print(f\"Grouped Data (Class Intervals) - Approx Mode: {mode_grouped_formula}\")\n",
        ""
      ],
      "metadata": {
        "colab": {
          "base_uri": "https://localhost:8080/"
        },
        "id": "uxGf3ya2ljnJ",
        "outputId": "a5d93af2-c965-4293-8454-14cd3f94d9b5"
      },
      "execution_count": 3,
      "outputs": [
        {
          "output_type": "stream",
          "name": "stdout",
          "text": [
            "\n",
            "Grouped Data (Class Intervals) - Approx Median:68.66666666666667\n",
            "Grouped Data (Class Intervals) - Approx Mode: 71.11111111111111\n"
          ]
        }
      ]
    },
    {
      "cell_type": "code",
      "source": [],
      "metadata": {
        "id": "xoJZFI2TlnZ7"
      },
      "execution_count": null,
      "outputs": []
    }
  ]
}