{
  "nbformat": 4,
  "nbformat_minor": 0,
  "metadata": {
    "colab": {
      "provenance": [],
      "authorship_tag": "ABX9TyNLxX4UYnIeA3O8nrZy9pwb",
      "include_colab_link": true
    },
    "kernelspec": {
      "name": "python3",
      "display_name": "Python 3"
    },
    "language_info": {
      "name": "python"
    }
  },
  "cells": [
    {
      "cell_type": "markdown",
      "metadata": {
        "id": "view-in-github",
        "colab_type": "text"
      },
      "source": [
        "<a href=\"https://colab.research.google.com/github/Pranitha3197/PS-LAB/blob/main/PS_LAB_W4.ipynb\" target=\"_parent\"><img src=\"https://colab.research.google.com/assets/colab-badge.svg\" alt=\"Open In Colab\"/></a>"
      ]
    },
    {
      "cell_type": "code",
      "source": [
        "import numpy as np\n",
        "import pandas as pd\n",
        "dataset = [12, 45, 67, 23, 45, 89, 45, 12, 33, 67, 67,78, 45, 23, 23, 56, 89, 45, 33, 45]\n",
        "median = np.median(dataset)\n",
        "print(f\"Median: {median}\")\n",
        "\n",
        "mode_pandas = pd.Series(dataset).mode()\n",
        "print(f\"Mode using Pandas: {mode_pandas.tolist()}\")"
      ],
      "metadata": {
        "colab": {
          "base_uri": "https://localhost:8080/"
        },
        "id": "kgQ3iSSNpXQZ",
        "outputId": "d15a435d-a4a0-4037-cc99-56d3a3e1f238"
      },
      "execution_count": 3,
      "outputs": [
        {
          "output_type": "stream",
          "name": "stdout",
          "text": [
            "Median: 45.0\n",
            "Mode using Pandas: [45]\n"
          ]
        }
      ]
    },
    {
      "cell_type": "code",
      "execution_count": 1,
      "metadata": {
        "colab": {
          "base_uri": "https://localhost:8080/"
        },
        "id": "Sob-DMkwm0_f",
        "outputId": "a75dfe9e-9ef2-4941-ccee-bec5d2e0e26a"
      },
      "outputs": [
        {
          "output_type": "stream",
          "name": "stdout",
          "text": [
            "Grouped Data (Discrete) - Median (numpy): 30.0\n",
            "Grouped Data (Discrete) - Mode (numpy): 40\n"
          ]
        }
      ],
      "source": [
        "import numpy as np\n",
        "import pandas as pd\n",
        "\n",
        "scores = [10, 20, 30, 40, 50]\n",
        "frequencies = [5, 8, 12, 15, 7]\n",
        "\n",
        "data_expanded = np.repeat(scores, frequencies)\n",
        "\n",
        "median_grouped = np.median(data_expanded)\n",
        "mode_grouped = scores[np.argmax(frequencies)]\n",
        "\n",
        "print(f\"Grouped Data (Discrete) - Median (numpy): {median_grouped}\")\n",
        "print(f\"Grouped Data (Discrete) - Mode (numpy): {mode_grouped}\")\n",
        "\n",
        "\n"
      ]
    },
    {
      "cell_type": "code",
      "source": [
        "import numpy as np\n",
        "import pandas as pd\n",
        "\n",
        "class_intervals = [(0, 10), (10, 20), (20, 30), (30, 40), (40, 50)]\n",
        "class_frequencies = [4, 6, 10, 8, 2]\n",
        "\n",
        "class_midpoints = [(a + b) / 2 for a, b in class_intervals]\n",
        "\n",
        "cf = np.cumsum(class_frequencies)\n",
        "N = sum(class_frequencies)\n",
        "\n",
        "median_class_index = np.searchsorted(cf, N / 2)\n",
        "L = class_intervals[median_class_index][0]\n",
        "F = cf[median_class_index - 1] if median_class_index > 0 else 0\n",
        "f = class_frequencies[median_class_index]\n",
        "h = class_intervals[median_class_index][1] - class_intervals[median_class_index][0]\n",
        "\n",
        "# Median formula\n",
        "median_grouped_formula = L + ((N / 2 - F) / f) * h\n",
        "\n",
        "mode_class_index = np.argmax(class_frequencies)\n",
        "L_mode = class_intervals[mode_class_index][0]  # Lower boundary of mode class\n",
        "f1 = class_frequencies[mode_class_index]  # Frequency of mode class\n",
        "f0 = class_frequencies[mode_class_index - 1] if mode_class_index > 0 else 0  # Frequency of previous class\n",
        "f2 = class_frequencies[mode_class_index + 1] if mode_class_index < len(class_frequencies) - 1 else 0  # Frequency of next class\n",
        "\n",
        "# Mode formula\n",
        "if (f1 - f0 + f1 - f2) != 0:\n",
        "    mode_grouped_formula = L_mode + ((f1 - f0) / ((f1 - f0) + (f1 - f2))) * h\n",
        "else:\n",
        "    mode_grouped_formula = L_mode\n",
        "\n",
        "print(f\"\\nGrouped Data (Class Intervals) - Approx Median: {median_grouped_formula}\")\n",
        "print(f\"Grouped Data (Class Intervals) - Approx Mode: {mode_grouped_formula}\")\n"
      ],
      "metadata": {
        "colab": {
          "base_uri": "https://localhost:8080/"
        },
        "id": "PsWHNc8Roijc",
        "outputId": "2ed7d4bf-141e-4d03-878c-9b1739058442"
      },
      "execution_count": 2,
      "outputs": [
        {
          "output_type": "stream",
          "name": "stdout",
          "text": [
            "\n",
            "Grouped Data (Class Intervals) - Approx Median: 25.0\n",
            "Grouped Data (Class Intervals) - Approx Mode: 26.666666666666664\n"
          ]
        }
      ]
    },
    {
      "cell_type": "code",
      "source": [],
      "metadata": {
        "id": "3_YyG6DkpTIL"
      },
      "execution_count": null,
      "outputs": []
    }
  ]
}